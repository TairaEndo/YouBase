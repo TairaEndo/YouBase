{
 "cells": [
  {
   "cell_type": "code",
   "execution_count": 210,
   "metadata": {},
   "outputs": [
    {
     "ename": "SyntaxError",
     "evalue": "invalid syntax (<ipython-input-210-7d3dc92e65d7>, line 14)",
     "output_type": "error",
     "traceback": [
      "\u001b[0;36m  File \u001b[0;32m\"<ipython-input-210-7d3dc92e65d7>\"\u001b[0;36m, line \u001b[0;32m14\u001b[0m\n\u001b[0;31m    def get_game_data(gameID : int) -> pd.DataFrame, :\u001b[0m\n\u001b[0m                                                   ^\u001b[0m\n\u001b[0;31mSyntaxError\u001b[0m\u001b[0;31m:\u001b[0m invalid syntax\n"
     ]
    }
   ],
   "source": [
    "# coding: UTF-8\n",
    "from bs4 import BeautifulSoup\n",
    "from selenium import webdriver\n",
    "from selenium.webdriver.chrome.options import Options\n",
    "import pandas as pd\n",
    "import time\n",
    "\n",
    "\n",
    "#取得したい試合のURL \n",
    "start_page = '01101' #その試合の、一人目の打者のページ\n",
    "start_url = 'https://baseball.sports.smt.docomo.ne.jp/result/games/live_' + game_ID + '_' + start_page + '.html#liveArea'\n",
    "\n",
    "\n",
    "def get_game_data(gameID : int) -> pd.DataFrame, :\n",
    "    \"\"\"\n",
    "    この中で、get_batterbox_dataを再帰処理する\n",
    "    \"\"\"\n",
    "    \n",
    "    \n",
    "    \n",
    "    #ChromeDriverのパス\n",
    "    driver_path = '/Users/Taira/Documents/Visualizing-Baseball/scraping/chromedriver'\n",
    "\n",
    "    # ブラウザを起動する\n",
    "    driver = webdriver.Chrome(executable_path=driver_path)\n",
    "    \n",
    "    \n",
    "    #DataFrameの作成\n",
    "    # インデックスをgameIDとする\n",
    "    #→ 入った得点も取得したいんだけど、この画面だと難しそう、、 → (いまの画面のランナー数) - (次の打者の画面のランナー数) で計算できそう？\n",
    "    #一得点 : (現在のページのランナーは1人) → (次のページのランナーは。。。)\n",
    "    #2点 : (現在のページのラン)\n",
    "    #3点 :\n",
    "    #4点 : \n",
    "    df = pd.DataFrame(columns=['Date', 'Pitcher', 'PitcherThrows', 'PitcherTeam',\\\n",
    "                                                    'Batter', 'BatterSide', 'BatterTeam', \\\n",
    "                                                    'Inning', 'Top/Bottom', 'OutCount', \\  #'BallCount', 'StrikeCount', \n",
    "                                                    'TaggedPitchType', 'PlayResult', \\ # 'PitchCall',　→ あとで、PitchCallとPlayResultを分ける\n",
    "                                                    'RelSpeed', 'PlateLocHeight', 'PlateLocSide', \\\n",
    "                                                    'HomeTeam', 'AwayTeam', 'GameID'])\n",
    "    \n",
    "    start_page = '01101' #その試合の、一人目の打者のページ\n",
    "    start_url = 'https://baseball.sports.smt.docomo.ne.jp/result/games/live_' + game_ID + '_' + start_page + '.html#liveArea'\n",
    "    \n",
    "    se, next_batteID = get_batterbox_data(start_url)\n",
    "    \n",
    "    df = df.append(se)\n",
    "    \n",
    "    \n",
    "    \n",
    "    \n",
    "    \n",
    "\n",
    "\n",
    "\n",
    "    \n",
    "    \n",
    "    \n",
    "def get_batterbox_data(url: str) -> pd.Series:\n",
    "    \n",
    "    \"\"\"\n",
    "    <input>\n",
    "    url : 取得したいページのURL\n",
    "    <output>\n",
    "    df : 1球ごとの情報を格納したデータフレーム\n",
    "    \"\"\"\n",
    "    \n",
    "    # ブラウザでアクセスする\n",
    "    driver.get(start_url)\n",
    "    # HTMLを文字コードをUTF-8に変換してから取得\n",
    "    html = driver.page_source.encode('utf-8')\n",
    "    \n",
    "    # BeautifulSoupで扱えるようにパースする\n",
    "    soup = BeautifulSoup(html, \"html.parser\")\n",
    "    \n",
    "\n",
    "    \n",
    "\n",
    "    # 1. 球速、球種、イベントの取得\n",
    "    #classがpitch_archive_tableの要素を表示\n",
    "    ballTable = bsObj.find(\"table\", {\"class\": \"pitch_archive_table\"})\n",
    "\n",
    "    \n",
    "    pitcherName = bsObj.findAll(\"div\", {\"class\": \"name\"})[0].get_text()\n",
    "    batterName = bsObj.findAll(\"div\", {\"class\": \"name\"})[1].get_text()\n",
    "    df['Inning'] = bsObj.find(\"div\", {\"class\": \"inning\"}).get_text()\n",
    "    print(inning)\n",
    "    print(pitcherName,batterName)\n",
    "\n",
    "    ballTable = bsObj.find(\"table\", {\"class\": \"pitch_archive_table\"})\n",
    "    rows = ballTable.findAll(\"tr\")\n",
    "    for row in rows:\n",
    "        csvRow = []\n",
    "        for cell in row.findAll(['td', 'th']):\n",
    "            csvRow.append(cell.get_text())\n",
    "        print(csvRow)\n",
    "        \n",
    "        \n",
    "    # 2. コースの取得\n",
    "    # セレクタがpitching_chart_iconの要素を表示\n",
    "    cource = soup.select_one(\"#pitching_chart_icon\")\n",
    "        \n",
    "        \n",
    "        \n",
    "        \n",
    "\n",
    "        \n",
    "        \n",
    "        \n",
    "    \n",
    "    #次の打者が存在すれば、そのページへ\n",
    "    #存在しなければ試合終了とみなし、データフレームを出力して終了\n",
    "    isNext = bsObj.findAll(\"p\", {\"class\": \"next\"})\n",
    "    if(len(isNext)==1):\n",
    "        nextURL = 'https://baseball.sports.smt.docomo.ne.jp/result/games/'+isNext[0].find(\"a\").get(\"href\")\n",
    "        get_cource_data(nextURL)\n",
    "    else:\n",
    "        return se, next_batterID\n",
    "    \n",
    "    \n",
    "\n",
    "    \n",
    "    \n",
    "    "
   ]
  },
  {
   "cell_type": "code",
   "execution_count": 198,
   "metadata": {},
   "outputs": [],
   "source": [
    "#1ページで試してみる"
   ]
  },
  {
   "cell_type": "code",
   "execution_count": 301,
   "metadata": {},
   "outputs": [],
   "source": [
    "# coding: UTF-8\n",
    "from bs4 import BeautifulSoup\n",
    "from selenium import webdriver\n",
    "from selenium.webdriver.common.by import By\n",
    "from selenium.webdriver.support.ui import WebDriverWait\n",
    "from selenium.webdriver.support import expected_conditions as EC\n",
    "from selenium.common.exceptions import TimeoutException\n",
    "import pandas as pd\n",
    "import datetime as dt"
   ]
  },
  {
   "cell_type": "code",
   "execution_count": 200,
   "metadata": {},
   "outputs": [],
   "source": [
    "game_date = '20190907' #試合日\n",
    "game_num = '02' #試合No.(01-06)"
   ]
  },
  {
   "cell_type": "code",
   "execution_count": 201,
   "metadata": {},
   "outputs": [],
   "source": [
    "#取得したい試合のURL \n",
    "start_page = '01101' #その試合の、一人目の打者のページ\n",
    "start_url = 'https://baseball.sports.smt.docomo.ne.jp/result/games/live_' + game_date + game_num + '_' + start_page + '.html#liveArea'"
   ]
  },
  {
   "cell_type": "code",
   "execution_count": 246,
   "metadata": {},
   "outputs": [],
   "source": [
    "#ChromeDriverのパス\n",
    "driver_path = '/Users/tairaendo/Documents/Visualizing Baseball/scraping/chromedriver'\n",
    "\n",
    "# ブラウザを起動する\n",
    "driver = webdriver.Chrome(executable_path=driver_path)"
   ]
  },
  {
   "cell_type": "code",
   "execution_count": 305,
   "metadata": {},
   "outputs": [],
   "source": [
    "start_url =  'https://baseball.sports.smt.docomo.ne.jp/result/games/live_2019090704_05203.html#liveArea'"
   ]
  },
  {
   "cell_type": "code",
   "execution_count": 306,
   "metadata": {
    "collapsed": true
   },
   "outputs": [
    {
     "data": {
      "text/plain": [
       "<div class=\"chart_graph_inner\" id=\"pitching_chart\">\n",
       "<img alt=\"配球チャートテーブル\" id=\"pitching_chart_table\" src=\"/img/img_live_chart.png\"/>\n",
       "<div class=\"pitch_type_icon\" id=\"pitching_chart_icon\" style=\"width: 342px; height: 439px;\"><span class=\"straight fourball\" id=\"pitching_chart_icon_1\" style=\"top: 83.6%; right: 29.5%; display: block;\">1</span><span class=\"straight strike\" id=\"pitching_chart_icon_2\" style=\"top: 34.8%; right: 69.5%; display: block;\">2</span><span class=\"curve fourball\" id=\"pitching_chart_icon_3\" style=\"top: 88%; right: 76.5%; display: block;\">3</span><span class=\"straight strike\" id=\"pitching_chart_icon_4\" style=\"top: 68.4%; right: 34%; display: block;\">4</span><span class=\"straight strike\" id=\"pitching_chart_icon_5\" style=\"top: 64%; right: 27.5%; display: block;\">5</span><span class=\"straight strike\" id=\"pitching_chart_icon_6\" style=\"top: 46.4%; right: 76%; display: block;\">6</span><span class=\"curve strike\" id=\"pitching_chart_icon_7\" style=\"top: 77.2%; right: 27.5%; display: block;\">7</span><span class=\"curve out\" id=\"pitching_chart_icon_8\" style=\"top: 64.4%; right: 55.5%; display: block; opacity: 0;\">8</span></div>\n",
       "</div>"
      ]
     },
     "execution_count": 306,
     "metadata": {},
     "output_type": "execute_result"
    }
   ],
   "source": [
    "#同じページに2度アクセスする\n",
    "\n",
    "#1度目のアクセス → その打席での球数を取得\n",
    "\n",
    "# ブラウザで打席ページにアクセスする\n",
    "driver.get(start_url)\n",
    "# HTMLを文字コードをUTF-8に変換してから取得\n",
    "html = driver.page_source.encode('utf-8')\n",
    "#その打席での球数を取得\n",
    "pitch_num = len(BeautifulSoup(html, \"html.parser\").find(\"table\", {\"class\": \"pitch_archive_table\"}).findAll(\"tr\"))\n",
    "\n",
    "#2度目のアクセス\n",
    "driver.get(start_url)\n",
    "# ID指定したページ上の要素が読み込まれるまで待機（15秒でタイムアウト判定）\n",
    "WebDriverWait(driver, 20).until(EC.presence_of_element_located((By.ID, 'pitching_chart_icon_'+str(pitch_num))))\n",
    "# HTMLを文字コードをUTF-8に変換してから取得\n",
    "html = driver.page_source.encode('utf-8')\n",
    "# 打席ページをパースする\n",
    "bsObj = BeautifulSoup(html, \"html.parser\")"
   ]
  },
  {
   "cell_type": "code",
   "execution_count": 161,
   "metadata": {},
   "outputs": [],
   "source": [
    "#143 x 6　試合 全ての投球データ\n",
    "# → 1試合の投球データ\n",
    "# → 1打席の投球データ\n",
    "# → 1球の投球データ\n",
    "\n",
    "#試合ごとに変化するカラム\n",
    "game_columns = ['GameDate', 'GameID', 'HomeTeam', 'AwayTeam'] #4つ\n",
    "\n",
    "\n",
    "#打席ごとに変化するカラム\n",
    "#(厳密にいうとアウトカウントはランナーの盗塁死や牽制死などによって変化する可能性がある。しかしdocomoのサイトもそれを反映していないので、今回は無視した。)\n",
    "batterbox_columns = [ 'PitcherName', 'PitcherThrows', 'PitcherTeam',\\\n",
    "                                         'BatterName', 'BatterSide', 'BatterTeam',\\\n",
    "                                         'Inning', 'TopBottom', 'OutCount'] #9つ\n",
    "\n",
    "#1球ごとに変化するカラム\n",
    "ball_columns = ['PitchNo', 'BallCount', 'StrikeCount','RelSpeed', 'PitchType', 'PosX', 'PosY', 'Event'] #8つ\n",
    "\n",
    "#必要ならば、Eventを\n",
    "# PitchCall : [見逃しストライク、ボール、空振りストライク、ファール] → 打席の途中\n",
    "# PlayResult :  Event != PitchCall(ex. 三振、フォアボール、デッドボール、インプレーなど) のとき、つまりその打席が終わるとき) \n",
    "#の2つに分けたい\n",
    "\n",
    "#ヒットを打ったのに、次の打者のアウトカウントが一つ増えている場合は、手動でイベントをつける、、？どうしたらいいかな\n",
    "#→ ランナーがアウトになった(盗塁死、牽制死、)\n",
    "\n",
    "#1試合分の情報を格納するデータフレームを宣言\n",
    "df = pd.DataFrame(columns = game_columns + batterbox_columns + ball_columns)"
   ]
  },
  {
   "cell_type": "code",
   "execution_count": null,
   "metadata": {},
   "outputs": [],
   "source": [
    "#試合ごとに変化する情報の取得\n",
    "\n",
    "#値を格納するSeriesの宣言\n",
    "se_game = pd.Series(index = game_columns)\n",
    "\n",
    "#スクレイピング(試合の先頭打者の時点で1度だけ取得)\n",
    "#試合日\n",
    "se_game.GameDate = dt.datetime.strptime(game_date, \"%Y%m%d\")\n",
    "#ゲームID\n",
    "se_game.GameID = game_date + game_num\n",
    "#ホームチーム(表に守備をするチーム)\n",
    "se_game.HomeTeam = bsObj.findAll(\"div\", {\"class\": \"wrapper_player clearfix\"})[0].findAll(\"p\")[1].get_text()\n",
    "#アウェーチーム(表に攻撃をするチーム)\n",
    "se_game.AwayTeam = se.BatterTeam = bsObj.findAll(\"div\", {\"class\": \"wrapper_player clearfix\"})[1].findAll(\"p\")[1].get_text()"
   ]
  },
  {
   "cell_type": "code",
   "execution_count": null,
   "metadata": {},
   "outputs": [],
   "source": [
    "#打席ごとに変化する情報の取得\n",
    "\n",
    "#値を格納するSeriesの宣言\n",
    "se_batterbox = pd.Series(index = batterbox_columns)\n",
    "\n",
    "#スクレイピング(各打席が始まる時に取得)\n",
    "#ピッチャーの名前、利き腕、所属チーム\n",
    "se_batterbox.PitcherName = bsObj.findAll(\"div\", {\"class\": \"name\"})[0].get_text()\n",
    "se_batterbox.PitcherThrows = bsObj.findAll(\"div\", {\"class\": \"wrapper_player clearfix\"})[0].findAll(\"div\")[10].get_text()\n",
    "se_batterbox.PitcherTeam = bsObj.findAll(\"div\", {\"class\": \"wrapper_player clearfix\"})[0].findAll(\"p\")[1].get_text()\n",
    "#バッターの名前、打席の左右、所属チーム\n",
    "se_batterbox.BatterName = bsObj.findAll(\"div\", {\"class\": \"name\"})[1].get_text()\n",
    "se_batterbox.BatterSide = bsObj.findAll(\"div\", {\"class\": \"wrapper_player clearfix\"})[1].findAll(\"div\")[9].get_text()\n",
    "se_batterbox.BatterTeam = bsObj.findAll(\"div\", {\"class\": \"wrapper_player clearfix\"})[1].findAll(\"p\")[1].get_text()\n",
    "#イニング、表裏\n",
    "se.Inning = int(bsObj.find(\"div\", {\"class\": \"inning\"}).get_text().split('回')[0])\n",
    "se.TopBottom = 1 if (bsObj.find(\"div\", {\"class\": \"inning\"}).get_text().split('回')[1] == '表') else 2 #表だったら1、裏だったら2\n",
    "#アウトカウント\n",
    "#→ できれば、打席が始まる前のアウトカウントにしたい\n",
    "    #もし、回の先頭打者だったら\n",
    "    #if url.split('_')[2].split('.')[0][3:5] = '01':\n",
    "   #if after_out_count = 3:\n",
    "        #se.BeforeOutCount = 0\n",
    "out_count = bsObj.find(\"table\", {\"class\": \"inning_count\"}).find(\"tr\",{\"class\": \"out\"}).findAll(\"td\")\n",
    "if(len(out_count[3].get(\"class\")) == 2):\n",
    "    se.OutCount = 3\n",
    "elif (len(out_count[2].get(\"class\")) == 2):\n",
    "    se.OutCount = 2\n",
    "elif (len(out_count[1].get(\"class\")) == 2):\n",
    "    se.OutCount = 1\n",
    "else:\n",
    "    se.OutCount = 0"
   ]
  },
  {
   "cell_type": "code",
   "execution_count": 125,
   "metadata": {
    "collapsed": true
   },
   "outputs": [
    {
     "name": "stdout",
     "output_type": "stream",
     "text": [
      "<tr>\n",
      "<td class=\"pitch_type_icon\"><span class=\"straight strike\">1</span></td>\n",
      "<td class=\"speed\">142km/h</td>\n",
      "<td class=\"pitch_type\">ストレート</td>\n",
      "<td class=\"batting\">空振り</td>\n",
      "</tr>\n",
      "<tr>\n",
      "<td class=\"pitch_type_icon\"><span class=\"straight strike\">2</span></td>\n",
      "<td class=\"speed\">144km/h</td>\n",
      "<td class=\"pitch_type\">ストレート</td>\n",
      "<td class=\"batting\">ファウル</td>\n",
      "</tr>\n",
      "<tr>\n",
      "<td class=\"pitch_type_icon\"><span class=\"straight fourball\">3</span></td>\n",
      "<td class=\"speed\">141km/h</td>\n",
      "<td class=\"pitch_type\">ストレート</td>\n",
      "<td class=\"batting\">ボール</td>\n",
      "</tr>\n",
      "<tr>\n",
      "<td class=\"pitch_type_icon\"><span class=\"curve fourball\">4</span></td>\n",
      "<td class=\"speed\">135km/h</td>\n",
      "<td class=\"pitch_type\">カットボール</td>\n",
      "<td class=\"batting\">ボール</td>\n",
      "</tr>\n",
      "<tr>\n",
      "<td class=\"pitch_type_icon\"><span class=\"curve out\">5</span></td>\n",
      "<td class=\"speed\">113km/h</td>\n",
      "<td class=\"pitch_type\">カーブ</td>\n",
      "<td class=\"batting\">一ゴロ</td>\n",
      "</tr>\n"
     ]
    }
   ],
   "source": [
    "#1球ごとに変化する情報の取得\n",
    "\n",
    "# ピッチナンバー(その打席での球数)、球速、球種、結果が書いてあるテーブルを取得\n",
    "rows = bsObj.find(\"table\", {\"class\": \"pitch_archive_table\"}).findAll(\"tr\")\n",
    "\n",
    "#投げられた順に並ぶように、行を反転させる\n",
    "rows_reverse = [[] for i in range(len(rows))]\n",
    "for i in range(len(rows)):\n",
    "    row = rows[-(i+1)]\n",
    "    rows_reverse[i] = row.find_all(\"td\")\n",
    "    \n",
    "#コースの取得(とりあえず、%表示のまま)\n",
    "courses = bsObj.select_one(\"#pitching_chart_icon\").find_all(\"span\")\n",
    "pos_xy = [() for i in range(len(courses))]\n",
    "for i, course in enumerate(courses):\n",
    "    y = float(course[i]['style'].split(\" \")[1].split(\"%\")[0])\n",
    "    x = float(course[i]['style'].split(\" \")[3].split(\"%\")[0])\n",
    "    pos_xy[i] = (x, y)\n",
    "    \n",
    "\n",
    "strike_count = 0\n",
    "ball_count = 0\n",
    "    \n",
    "#スクレイピング\n",
    "for i, ball in rows_reverse:\n",
    "    #値を格納するSeriesの宣言\n",
    "    se_ball = pd.Series(index=ball_columns)\n",
    "    \n",
    "    #ボールカウント、ストライクカウント\n",
    "    se_ball.StrikeCount = strike_count\n",
    "    se_ball.BallCount = ball_count\n",
    "    \n",
    "    #x座標、y座標\n",
    "    se_ball.PosX = pos_xy[i][0]\n",
    "    se_ball.PosY = pos_xy[i][1]\n",
    "    \n",
    "    #ピッチナンバー、球速、球種、結果\n",
    "    se_ball.BallNum = ball[0].get_text()\n",
    "    se_ball.RelSpeed = ball[1].get_text().split('km/h')[0]\n",
    "    se_ball.PitchType = ball[2].get_text()\n",
    "    result =  ball[3].get_text()\n",
    "    se_ball.PlayResult = result\n",
    "    \n",
    "    #結果が[空振り、見逃し、ファウル]ならストライクカウントを増やし\n",
    "    #[ボール]ならボールカウントを増やす\n",
    "    if result in ['空振り', '見逃し', 'ファウル']:\n",
    "        strike_count += 1\n",
    "    elif result == 'ボール':\n",
    "        ball_count += 1    \n",
    "        \n",
    "    #3種類のSeriesをくっつけ、DataFrameに加える\n",
    "    se = pd.concat([se_game, se_batterbox, se_ball])\n",
    "    df = df.append(se)"
   ]
  },
  {
   "cell_type": "code",
   "execution_count": 341,
   "metadata": {},
   "outputs": [],
   "source": [
    "courses = bsObj.select_one(\"#pitching_chart_icon\").find_all(\"span\")\n"
   ]
  },
  {
   "cell_type": "code",
   "execution_count": 365,
   "metadata": {},
   "outputs": [],
   "source": [
    "pos_xy = [[] for i in range(len(courses))]"
   ]
  },
  {
   "cell_type": "code",
   "execution_count": 366,
   "metadata": {},
   "outputs": [],
   "source": [
    "for i, course in enumerate(courses):\n",
    "    y = course['style'].split(\" \")[1].split(\"%\")[0]\n",
    "    x = course['style'].split(\" \")[3].split(\"%\")[0]\n",
    "    pos_xy[i] = [x, y]"
   ]
  },
  {
   "cell_type": "code",
   "execution_count": 378,
   "metadata": {},
   "outputs": [
    {
     "data": {
      "text/plain": [
       "'142'"
      ]
     },
     "execution_count": 378,
     "metadata": {},
     "output_type": "execute_result"
    }
   ],
   "source": [
    "rows_reverse[0][1].get_text().split('km/h')[0]"
   ]
  },
  {
   "cell_type": "code",
   "execution_count": null,
   "metadata": {},
   "outputs": [],
   "source": [
    "id = 2019090703 + 球数"
   ]
  },
  {
   "cell_type": "code",
   "execution_count": 379,
   "metadata": {},
   "outputs": [],
   "source": [
    "out_count = bsObj.find(\"table\", {\"class\": \"inning_count\"}).find(\"tr\",{\"class\": \"out\"}).findAll(\"td\")"
   ]
  },
  {
   "cell_type": "code",
   "execution_count": 390,
   "metadata": {},
   "outputs": [
    {
     "data": {
      "text/plain": [
       "2"
      ]
     },
     "execution_count": 390,
     "metadata": {},
     "output_type": "execute_result"
    }
   ],
   "source": [
    "len(out_count[3].get('class'))"
   ]
  },
  {
   "cell_type": "code",
   "execution_count": 395,
   "metadata": {},
   "outputs": [
    {
     "ename": "TypeError",
     "evalue": "'NoneType' object is not callable",
     "output_type": "error",
     "traceback": [
      "\u001b[0;31m---------------------------------------------------------------------------\u001b[0m",
      "\u001b[0;31mTypeError\u001b[0m                                 Traceback (most recent call last)",
      "\u001b[0;32m<ipython-input-395-4d44667a5595>\u001b[0m in \u001b[0;36m<module>\u001b[0;34m\u001b[0m\n\u001b[0;32m----> 1\u001b[0;31m \u001b[0mbsObj\u001b[0m\u001b[0;34m.\u001b[0m\u001b[0mfind_element_by_css_selector\u001b[0m\u001b[0;34m(\u001b[0m\u001b[0;34m\"next\"\u001b[0m\u001b[0;34m)\u001b[0m\u001b[0;34m.\u001b[0m\u001b[0mget_attribute\u001b[0m\u001b[0;34m(\u001b[0m\u001b[0;34m\"href\"\u001b[0m\u001b[0;34m)\u001b[0m\u001b[0;34m\u001b[0m\u001b[0;34m\u001b[0m\u001b[0m\n\u001b[0m",
      "\u001b[0;31mTypeError\u001b[0m: 'NoneType' object is not callable"
     ]
    }
   ],
   "source": [
    "bsObj.find_element_by_css_selector(\"next\").get_attribute(\"href\")"
   ]
  },
  {
   "cell_type": "code",
   "execution_count": 401,
   "metadata": {},
   "outputs": [],
   "source": [
    "isNext = bsObj.findAll(\"p\", {\"class\": \"next\"})[0]"
   ]
  },
  {
   "cell_type": "code",
   "execution_count": 403,
   "metadata": {},
   "outputs": [
    {
     "data": {
      "text/plain": [
       "'live_2019090704_06101.html#liveArea'"
      ]
     },
     "execution_count": 403,
     "metadata": {},
     "output_type": "execute_result"
    }
   ],
   "source": [
    "isNext.find('a').get('href')"
   ]
  },
  {
   "cell_type": "code",
   "execution_count": 404,
   "metadata": {},
   "outputs": [],
   "source": [
    "out_count = bsObj.find(\"table\", {\"class\": \"inning_count\"}).find(\"tr\",{\"class\": \"out\"}).findAll(\"td\")"
   ]
  },
  {
   "cell_type": "code",
   "execution_count": 410,
   "metadata": {},
   "outputs": [
    {
     "data": {
      "text/plain": [
       "[<td class=\"initial\">O</td>,\n",
       " <td class=\"one on\"></td>,\n",
       " <td class=\"two on\"></td>,\n",
       " <td class=\"three on\"></td>,\n",
       " <td></td>]"
      ]
     },
     "execution_count": 410,
     "metadata": {},
     "output_type": "execute_result"
    }
   ],
   "source": [
    "out_count"
   ]
  },
  {
   "cell_type": "code",
   "execution_count": 421,
   "metadata": {},
   "outputs": [
    {
     "data": {
      "text/plain": [
       "'03'"
      ]
     },
     "execution_count": 421,
     "metadata": {},
     "output_type": "execute_result"
    }
   ],
   "source": [
    "start_url.split('_')[2].split('.')[0][3:5] = "
   ]
  },
  {
   "cell_type": "code",
   "execution_count": null,
   "metadata": {},
   "outputs": [],
   "source": []
  }
 ],
 "metadata": {
  "kernelspec": {
   "display_name": "Python 3",
   "language": "python",
   "name": "python3"
  },
  "language_info": {
   "codemirror_mode": {
    "name": "ipython",
    "version": 3
   },
   "file_extension": ".py",
   "mimetype": "text/x-python",
   "name": "python",
   "nbconvert_exporter": "python",
   "pygments_lexer": "ipython3",
   "version": "3.7.3"
  }
 },
 "nbformat": 4,
 "nbformat_minor": 2
}
